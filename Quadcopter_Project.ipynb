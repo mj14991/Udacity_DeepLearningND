{
 "cells": [
  {
   "cell_type": "markdown",
   "metadata": {},
   "source": [
    "# Project: Train a Quadcopter How to Fly\n",
    "\n",
    "Design an agent to fly a quadcopter, and then train it using a reinforcement learning algorithm of your choice! \n",
    "\n",
    "Try to apply the techniques you have learnt, but also feel free to come up with innovative ideas and test them."
   ]
  },
  {
   "cell_type": "markdown",
   "metadata": {},
   "source": [
    "## Instructions\n",
    "\n",
    "Take a look at the files in the directory to better understand the structure of the project. \n",
    "\n",
    "- `task.py`: Define your task (environment) in this file.\n",
    "- `agents/`: Folder containing reinforcement learning agents.\n",
    "    - `policy_search.py`: A sample agent has been provided here.\n",
    "    - `agent.py`: Develop your agent here.\n",
    "- `physics_sim.py`: This file contains the simulator for the quadcopter.  **DO NOT MODIFY THIS FILE**.\n",
    "\n",
    "For this project, you will define your own task in `task.py`.  Although we have provided a example task to get you started, you are encouraged to change it.  Later in this notebook, you will learn more about how to amend this file.\n",
    "\n",
    "You will also design a reinforcement learning agent in `agent.py` to complete your chosen task.  \n",
    "\n",
    "You are welcome to create any additional files to help you to organize your code.  For instance, you may find it useful to define a `model.py` file defining any needed neural network architectures.\n",
    "\n",
    "## Controlling the Quadcopter\n",
    "\n",
    "We provide a sample agent in the code cell below to show you how to use the sim to control the quadcopter.  This agent is even simpler than the sample agent that you'll examine (in `agents/policy_search.py`) later in this notebook!\n",
    "\n",
    "The agent controls the quadcopter by setting the revolutions per second on each of its four rotors.  The provided agent in the `Basic_Agent` class below always selects a random action for each of the four rotors.  These four speeds are returned by the `act` method as a list of four floating-point numbers.  \n",
    "\n",
    "For this project, the agent that you will implement in `agents/agent.py` will have a far more intelligent method for selecting actions!"
   ]
  },
  {
   "cell_type": "code",
   "execution_count": 12,
   "metadata": {},
   "outputs": [],
   "source": [
    "import random\n",
    "\n",
    "class Basic_Agent():\n",
    "    def __init__(self, task):\n",
    "        self.task = task\n",
    "    \n",
    "    def act(self):\n",
    "        new_thrust = random.gauss(450., 25.)\n",
    "        return [new_thrust + random.gauss(0., 1.) for x in range(4)]"
   ]
  },
  {
   "cell_type": "markdown",
   "metadata": {},
   "source": [
    "Run the code cell below to have the agent select actions to control the quadcopter.  \n",
    "\n",
    "Feel free to change the provided values of `runtime`, `init_pose`, `init_velocities`, and `init_angle_velocities` below to change the starting conditions of the quadcopter.\n",
    "\n",
    "The `labels` list below annotates statistics that are saved while running the simulation.  All of this information is saved in a text file `data.txt` and stored in the dictionary `results`.  "
   ]
  },
  {
   "cell_type": "code",
   "execution_count": 13,
   "metadata": {},
   "outputs": [
    {
     "name": "stdout",
     "output_type": "stream",
     "text": [
      "The autoreload extension is already loaded. To reload it, use:\n",
      "  %reload_ext autoreload\n"
     ]
    },
    {
     "ename": "TypeError",
     "evalue": "get_reward() missing 1 required positional argument: 'done'",
     "output_type": "error",
     "traceback": [
      "\u001b[0;31m---------------------------------------------------------------------------\u001b[0m",
      "\u001b[0;31mTypeError\u001b[0m                                 Traceback (most recent call last)",
      "\u001b[0;32m<ipython-input-13-255774a3b200>\u001b[0m in \u001b[0;36m<module>\u001b[0;34m()\u001b[0m\n\u001b[1;32m     28\u001b[0m     \u001b[0;32mwhile\u001b[0m \u001b[0;32mTrue\u001b[0m\u001b[0;34m:\u001b[0m\u001b[0;34m\u001b[0m\u001b[0m\n\u001b[1;32m     29\u001b[0m         \u001b[0mrotor_speeds\u001b[0m \u001b[0;34m=\u001b[0m \u001b[0magent\u001b[0m\u001b[0;34m.\u001b[0m\u001b[0mact\u001b[0m\u001b[0;34m(\u001b[0m\u001b[0;34m)\u001b[0m\u001b[0;34m\u001b[0m\u001b[0m\n\u001b[0;32m---> 30\u001b[0;31m         \u001b[0m_\u001b[0m\u001b[0;34m,\u001b[0m \u001b[0m_\u001b[0m\u001b[0;34m,\u001b[0m \u001b[0mdone\u001b[0m \u001b[0;34m=\u001b[0m \u001b[0mtask\u001b[0m\u001b[0;34m.\u001b[0m\u001b[0mstep\u001b[0m\u001b[0;34m(\u001b[0m\u001b[0mrotor_speeds\u001b[0m\u001b[0;34m)\u001b[0m\u001b[0;34m\u001b[0m\u001b[0m\n\u001b[0m\u001b[1;32m     31\u001b[0m         \u001b[0mto_write\u001b[0m \u001b[0;34m=\u001b[0m \u001b[0;34m[\u001b[0m\u001b[0mtask\u001b[0m\u001b[0;34m.\u001b[0m\u001b[0msim\u001b[0m\u001b[0;34m.\u001b[0m\u001b[0mtime\u001b[0m\u001b[0;34m]\u001b[0m \u001b[0;34m+\u001b[0m \u001b[0mlist\u001b[0m\u001b[0;34m(\u001b[0m\u001b[0mtask\u001b[0m\u001b[0;34m.\u001b[0m\u001b[0msim\u001b[0m\u001b[0;34m.\u001b[0m\u001b[0mpose\u001b[0m\u001b[0;34m)\u001b[0m \u001b[0;34m+\u001b[0m \u001b[0mlist\u001b[0m\u001b[0;34m(\u001b[0m\u001b[0mtask\u001b[0m\u001b[0;34m.\u001b[0m\u001b[0msim\u001b[0m\u001b[0;34m.\u001b[0m\u001b[0mv\u001b[0m\u001b[0;34m)\u001b[0m \u001b[0;34m+\u001b[0m \u001b[0mlist\u001b[0m\u001b[0;34m(\u001b[0m\u001b[0mtask\u001b[0m\u001b[0;34m.\u001b[0m\u001b[0msim\u001b[0m\u001b[0;34m.\u001b[0m\u001b[0mangular_v\u001b[0m\u001b[0;34m)\u001b[0m \u001b[0;34m+\u001b[0m \u001b[0mlist\u001b[0m\u001b[0;34m(\u001b[0m\u001b[0mrotor_speeds\u001b[0m\u001b[0;34m)\u001b[0m\u001b[0;34m\u001b[0m\u001b[0m\n\u001b[1;32m     32\u001b[0m         \u001b[0;32mfor\u001b[0m \u001b[0mii\u001b[0m \u001b[0;32min\u001b[0m \u001b[0mrange\u001b[0m\u001b[0;34m(\u001b[0m\u001b[0mlen\u001b[0m\u001b[0;34m(\u001b[0m\u001b[0mlabels\u001b[0m\u001b[0;34m)\u001b[0m\u001b[0;34m)\u001b[0m\u001b[0;34m:\u001b[0m\u001b[0;34m\u001b[0m\u001b[0m\n",
      "\u001b[0;32m/home/workspace/task.py\u001b[0m in \u001b[0;36mstep\u001b[0;34m(self, rotor_speeds)\u001b[0m\n\u001b[1;32m     52\u001b[0m         \u001b[0;32mfor\u001b[0m \u001b[0m_\u001b[0m \u001b[0;32min\u001b[0m \u001b[0mrange\u001b[0m\u001b[0;34m(\u001b[0m\u001b[0mself\u001b[0m\u001b[0;34m.\u001b[0m\u001b[0maction_repeat\u001b[0m\u001b[0;34m)\u001b[0m\u001b[0;34m:\u001b[0m\u001b[0;34m\u001b[0m\u001b[0m\n\u001b[1;32m     53\u001b[0m             \u001b[0mdone\u001b[0m \u001b[0;34m=\u001b[0m \u001b[0mself\u001b[0m\u001b[0;34m.\u001b[0m\u001b[0msim\u001b[0m\u001b[0;34m.\u001b[0m\u001b[0mnext_timestep\u001b[0m\u001b[0;34m(\u001b[0m\u001b[0mrotor_speeds\u001b[0m\u001b[0;34m)\u001b[0m \u001b[0;31m# update the sim pose and velocities\u001b[0m\u001b[0;34m\u001b[0m\u001b[0m\n\u001b[0;32m---> 54\u001b[0;31m             \u001b[0mreward\u001b[0m \u001b[0;34m+=\u001b[0m \u001b[0mself\u001b[0m\u001b[0;34m.\u001b[0m\u001b[0mget_reward\u001b[0m\u001b[0;34m(\u001b[0m\u001b[0;34m)\u001b[0m\u001b[0;34m\u001b[0m\u001b[0m\n\u001b[0m\u001b[1;32m     55\u001b[0m             \u001b[0mpose_all\u001b[0m\u001b[0;34m.\u001b[0m\u001b[0mappend\u001b[0m\u001b[0;34m(\u001b[0m\u001b[0mself\u001b[0m\u001b[0;34m.\u001b[0m\u001b[0msim\u001b[0m\u001b[0;34m.\u001b[0m\u001b[0mpose\u001b[0m\u001b[0;34m)\u001b[0m\u001b[0;34m\u001b[0m\u001b[0m\n\u001b[1;32m     56\u001b[0m         \u001b[0mnext_state\u001b[0m \u001b[0;34m=\u001b[0m \u001b[0mnp\u001b[0m\u001b[0;34m.\u001b[0m\u001b[0mconcatenate\u001b[0m\u001b[0;34m(\u001b[0m\u001b[0mpose_all\u001b[0m\u001b[0;34m)\u001b[0m\u001b[0;34m\u001b[0m\u001b[0m\n",
      "\u001b[0;31mTypeError\u001b[0m: get_reward() missing 1 required positional argument: 'done'"
     ]
    }
   ],
   "source": [
    "%load_ext autoreload\n",
    "%autoreload 2\n",
    "\n",
    "import csv\n",
    "import numpy as np\n",
    "from task import Task\n",
    "\n",
    "# Modify the values below to give the quadcopter a different starting position.\n",
    "runtime = 5.                                     # time limit of the episode\n",
    "init_pose = np.array([0., 0., 10., 0., 0., 0.])  # initial pose\n",
    "init_velocities = np.array([0., 0., 0.])         # initial velocities\n",
    "init_angle_velocities = np.array([0., 0., 0.])   # initial angle velocities\n",
    "file_output = 'data.txt'                         # file name for saved results\n",
    "\n",
    "# Setup\n",
    "task = Task(init_pose, init_velocities, init_angle_velocities, runtime)\n",
    "agent = Basic_Agent(task)\n",
    "done = False\n",
    "labels = ['time', 'x', 'y', 'z', 'phi', 'theta', 'psi', 'x_velocity',\n",
    "          'y_velocity', 'z_velocity', 'phi_velocity', 'theta_velocity',\n",
    "          'psi_velocity', 'rotor_speed1', 'rotor_speed2', 'rotor_speed3', 'rotor_speed4']\n",
    "results = {x : [] for x in labels}\n",
    "\n",
    "# Run the simulation, and save the results.\n",
    "with open(file_output, 'w') as csvfile:\n",
    "    writer = csv.writer(csvfile)\n",
    "    writer.writerow(labels)\n",
    "    while True:\n",
    "        rotor_speeds = agent.act()\n",
    "        _, _, done = task.step(rotor_speeds)\n",
    "        to_write = [task.sim.time] + list(task.sim.pose) + list(task.sim.v) + list(task.sim.angular_v) + list(rotor_speeds)\n",
    "        for ii in range(len(labels)):\n",
    "            results[labels[ii]].append(to_write[ii])\n",
    "        writer.writerow(to_write)\n",
    "        if done:\n",
    "            break"
   ]
  },
  {
   "cell_type": "markdown",
   "metadata": {},
   "source": [
    "Run the code cell below to visualize how the position of the quadcopter evolved during the simulation."
   ]
  },
  {
   "cell_type": "code",
   "execution_count": 14,
   "metadata": {},
   "outputs": [
    {
     "data": {
      "image/png": "[encoded data removed]",
      "text/plain": [
       "<matplotlib.figure.Figure at 0x7f141aa8df28>"
      ]
     },
     "metadata": {},
     "output_type": "display_data"
    }
   ],
   "source": [
    "import matplotlib.pyplot as plt\n",
    "%matplotlib inline\n",
    "\n",
    "plt.plot(results['time'], results['x'], label='x')\n",
    "plt.plot(results['time'], results['y'], label='y')\n",
    "plt.plot(results['time'], results['z'], label='z')\n",
    "plt.legend()\n",
    "_ = plt.ylim()"
   ]
  },
  {
   "cell_type": "markdown",
   "metadata": {},
   "source": [
    "The next code cell visualizes the velocity of the quadcopter."
   ]
  },
  {
   "cell_type": "code",
   "execution_count": 15,
   "metadata": {},
   "outputs": [
    {
     "data": {
      "image/png": "[encoded data removed]",
      "text/plain": [
       "<matplotlib.figure.Figure at 0x7f13f8857908>"
      ]
     },
     "metadata": {},
     "output_type": "display_data"
    }
   ],
   "source": [
    "plt.plot(results['time'], results['x_velocity'], label='x_hat')\n",
    "plt.plot(results['time'], results['y_velocity'], label='y_hat')\n",
    "plt.plot(results['time'], results['z_velocity'], label='z_hat')\n",
    "plt.legend()\n",
    "_ = plt.ylim()"
   ]
  },
  {
   "cell_type": "markdown",
   "metadata": {},
   "source": [
    "Next, you can plot the Euler angles (the rotation of the quadcopter over the $x$-, $y$-, and $z$-axes),"
   ]
  },
  {
   "cell_type": "code",
   "execution_count": 16,
   "metadata": {},
   "outputs": [
    {
     "data": {
      "image/png": "[encoded data removed]",
      "text/plain": [
       "<matplotlib.figure.Figure at 0x7f13f8940e48>"
      ]
     },
     "metadata": {},
     "output_type": "display_data"
    }
   ],
   "source": [
    "plt.plot(results['time'], results['phi'], label='phi')\n",
    "plt.plot(results['time'], results['theta'], label='theta')\n",
    "plt.plot(results['time'], results['psi'], label='psi')\n",
    "plt.legend()\n",
    "_ = plt.ylim()"
   ]
  },
  {
   "cell_type": "markdown",
   "metadata": {},
   "source": [
    "before plotting the velocities (in radians per second) corresponding to each of the Euler angles."
   ]
  },
  {
   "cell_type": "code",
   "execution_count": 17,
   "metadata": {},
   "outputs": [
    {
     "data": {
      "image/png": "[encoded data removed]",
      "text/plain": [
       "<matplotlib.figure.Figure at 0x7f13f8de24a8>"
      ]
     },
     "metadata": {},
     "output_type": "display_data"
    }
   ],
   "source": [
    "plt.plot(results['time'], results['phi_velocity'], label='phi_velocity')\n",
    "plt.plot(results['time'], results['theta_velocity'], label='theta_velocity')\n",
    "plt.plot(results['time'], results['psi_velocity'], label='psi_velocity')\n",
    "plt.legend()\n",
    "_ = plt.ylim()"
   ]
  },
  {
   "cell_type": "markdown",
   "metadata": {},
   "source": [
    "Finally, you can use the code cell below to print the agent's choice of actions.  "
   ]
  },
  {
   "cell_type": "code",
   "execution_count": 18,
   "metadata": {},
   "outputs": [
    {
     "data": {
      "image/png": "[encoded data removed]",
      "text/plain": [
       "<matplotlib.figure.Figure at 0x7f13f869dcf8>"
      ]
     },
     "metadata": {},
     "output_type": "display_data"
    }
   ],
   "source": [
    "plt.plot(results['time'], results['rotor_speed1'], label='Rotor 1 revolutions / second')\n",
    "plt.plot(results['time'], results['rotor_speed2'], label='Rotor 2 revolutions / second')\n",
    "plt.plot(results['time'], results['rotor_speed3'], label='Rotor 3 revolutions / second')\n",
    "plt.plot(results['time'], results['rotor_speed4'], label='Rotor 4 revolutions / second')\n",
    "plt.legend()\n",
    "_ = plt.ylim()"
   ]
  },
  {
   "cell_type": "markdown",
   "metadata": {},
   "source": [
    "When specifying a task, you will derive the environment state from the simulator.  Run the code cell below to print the values of the following variables at the end of the simulation:\n",
    "- `task.sim.pose` (the position of the quadcopter in ($x,y,z$) dimensions and the Euler angles),\n",
    "- `task.sim.v` (the velocity of the quadcopter in ($x,y,z$) dimensions), and\n",
    "- `task.sim.angular_v` (radians/second for each of the three Euler angles)."
   ]
  },
  {
   "cell_type": "code",
   "execution_count": 19,
   "metadata": {},
   "outputs": [
    {
     "name": "stdout",
     "output_type": "stream",
     "text": [
      "[  0.00000000e+00   0.00000000e+00   1.00005597e+01   1.01877429e-04\n",
      "   1.65012849e-05   0.00000000e+00]\n",
      "[ 0.         0.         0.0559734]\n",
      "[ 0.01427427 -0.00574479  0.        ]\n"
     ]
    }
   ],
   "source": [
    "# the pose, velocity, and angular velocity of the quadcopter at the end of the episode\n",
    "print(task.sim.pose)\n",
    "print(task.sim.v)\n",
    "print(task.sim.angular_v)"
   ]
  },
  {
   "cell_type": "markdown",
   "metadata": {},
   "source": [
    "In the sample task in `task.py`, we use the 6-dimensional pose of the quadcopter to construct the state of the environment at each timestep.  However, when amending the task for your purposes, you are welcome to expand the size of the state vector by including the velocity information.  You can use any combination of the pose, velocity, and angular velocity - feel free to tinker here, and construct the state to suit your task.\n",
    "\n",
    "## The Task\n",
    "\n",
    "A sample task has been provided for you in `task.py`.  Open this file in a new window now. \n",
    "\n",
    "The `__init__()` method is used to initialize several variables that are needed to specify the task.  \n",
    "- The simulator is initialized as an instance of the `PhysicsSim` class (from `physics_sim.py`).  \n",
    "- Inspired by the methodology in the original DDPG paper, we make use of action repeats.  For each timestep of the agent, we step the simulation `action_repeats` timesteps.  If you are not familiar with action repeats, please read the **Results** section in [the DDPG paper](https://arxiv.org/abs/1509.02971).\n",
    "- We set the number of elements in the state vector.  For the sample task, we only work with the 6-dimensional pose information.  To set the size of the state (`state_size`), we must take action repeats into account.  \n",
    "- The environment will always have a 4-dimensional action space, with one entry for each rotor (`action_size=4`). You can set the minimum (`action_low`) and maximum (`action_high`) values of each entry here.\n",
    "- The sample task in this provided file is for the agent to reach a target position.  We specify that target position as a variable.\n",
    "\n",
    "The `reset()` method resets the simulator.  The agent should call this method every time the episode ends.  You can see an example of this in the code cell below.\n",
    "\n",
    "The `step()` method is perhaps the most important.  It accepts the agent's choice of action `rotor_speeds`, which is used to prepare the next state to pass on to the agent.  Then, the reward is computed from `get_reward()`.  The episode is considered done if the time limit has been exceeded, or the quadcopter has travelled outside of the bounds of the simulation.\n",
    "\n",
    "In the next section, you will learn how to test the performance of an agent on this task."
   ]
  },
  {
   "cell_type": "markdown",
   "metadata": {},
   "source": [
    "## The Agent\n",
    "\n",
    "The sample agent given in `agents/policy_search.py` uses a very simplistic linear policy to directly compute the action vector as a dot product of the state vector and a matrix of weights. Then, it randomly perturbs the parameters by adding some Gaussian noise, to produce a different policy. Based on the average reward obtained in each episode (`score`), it keeps track of the best set of parameters found so far, how the score is changing, and accordingly tweaks a scaling factor to widen or tighten the noise.\n",
    "\n",
    "Run the code cell below to see how the agent performs on the sample task."
   ]
  },
  {
   "cell_type": "code",
   "execution_count": 25,
   "metadata": {},
   "outputs": [
    {
     "name": "stdout",
     "output_type": "stream",
     "text": [
      "Episode = 1000, score =  -0.701 (best =   3.036), noise_scale = 3.25"
     ]
    }
   ],
   "source": [
    "import sys\n",
    "import pandas as pd\n",
    "from agents.policy_search import PolicySearch_Agent\n",
    "from task import Task\n",
    "\n",
    "num_episodes = 1000\n",
    "target_pos = np.array([0., 0., 10.])\n",
    "task = Task(target_pos=target_pos)\n",
    "agent = PolicySearch_Agent(task) \n",
    "\n",
    "for i_episode in range(1, num_episodes+1):\n",
    "    state = agent.reset_episode() # start a new episode\n",
    "    while True:\n",
    "        action = agent.act(state) \n",
    "        next_state, reward, done = task.step(action)\n",
    "        agent.step(reward, done)\n",
    "        state = next_state\n",
    "        if done:\n",
    "            print(\"\\rEpisode = {:4d}, score = {:7.3f} (best = {:7.3f}), noise_scale = {}\".format(\n",
    "                i_episode, agent.score, agent.best_score, agent.noise_scale), end=\"\")  # [debug]\n",
    "            break\n",
    "    sys.stdout.flush()"
   ]
  },
  {
   "cell_type": "markdown",
   "metadata": {},
   "source": [
    "This agent should perform very poorly on this task.  And that's where you come in!"
   ]
  },
  {
   "cell_type": "markdown",
   "metadata": {
    "collapsed": true
   },
   "source": [
    "## Define the Task, Design the Agent, and Train Your Agent!\n",
    "\n",
    "Amend `task.py` to specify a task of your choosing.  If you're unsure what kind of task to specify, you may like to teach your quadcopter to takeoff, hover in place, land softly, or reach a target pose.  \n",
    "\n",
    "After specifying your task, use the sample agent in `agents/policy_search.py` as a template to define your own agent in `agents/agent.py`.  You can borrow whatever you need from the sample agent, including ideas on how you might modularize your code (using helper methods like `act()`, `learn()`, `reset_episode()`, etc.).\n",
    "\n",
    "Note that it is **highly unlikely** that the first agent and task that you specify will learn well.  You will likely have to tweak various hyperparameters and the reward function for your task until you arrive at reasonably good behavior.\n",
    "\n",
    "As you develop your agent, it's important to keep an eye on how it's performing. Use the code above as inspiration to build in a mechanism to log/save the total rewards obtained in each episode to file.  If the episode rewards are gradually increasing, this is an indication that your agent is learning."
   ]
  },
  {
   "cell_type": "code",
   "execution_count": 28,
   "metadata": {},
   "outputs": [
    {
     "name": "stdout",
     "output_type": "stream",
     "text": [
      "Episode =  901, total_reward = 252.000 (best = 252.000)[ -62.19400186   13.84265344  143.49695783]\n",
      "Episode =  902, total_reward = 252.000 (best = 252.000)[  22.48365142   -5.70021796  137.45138454]\n",
      "Episode =  903, total_reward = 252.000 (best = 252.000)[   1.69362848   17.27492987  140.59636188]\n",
      "Episode =  904, total_reward = 252.000 (best = 252.000)[  54.23135453   22.42852123  181.14529787]\n",
      "Episode =  905, total_reward = 252.000 (best = 252.000)[ -33.93222695   14.56377722  164.90508538]\n",
      "Episode =  906, total_reward = 252.000 (best = 252.000)[ -16.75522725   13.36224112  136.13612213]\n",
      "Episode =  907, total_reward = 252.000 (best = 252.000)[ -10.61455594   22.52083312  137.75474666]\n",
      "Episode =  908, total_reward = 252.000 (best = 252.000)[ -31.96947708  -45.6334368   120.40262947]\n",
      "Episode =  909, total_reward = 252.000 (best = 252.000)[ -16.17092929  -14.99563932  136.10099415]\n",
      "Episode =  910, total_reward = 252.000 (best = 252.000)[  -1.15105366   14.42910833  138.97328878]\n",
      "Episode =  911, total_reward = 252.000 (best = 252.000)[  12.54234915   -2.17447054  138.56866588]\n",
      "Episode =  912, total_reward = 252.000 (best = 252.000)[ -25.0236922     2.2328979   135.50169261]\n",
      "Episode =  913, total_reward = 252.000 (best = 252.000)[ -30.92504953  -58.37662956  107.78234264]\n",
      "Episode =  914, total_reward = 252.000 (best = 252.000)[ -45.52363385   -4.99096741  124.46459389]\n",
      "Episode =  915, total_reward = 252.000 (best = 252.000)[ -25.92023026  -44.41676823  123.23822305]\n",
      "Episode =  916, total_reward = 252.000 (best = 252.000)[  -1.28959135  -32.77392073  134.89785472]\n",
      "Episode =  917, total_reward = 252.000 (best = 252.000)[  23.04993643  -13.98900027  140.23961403]\n",
      "Episode =  918, total_reward = 252.000 (best = 252.000)[   5.19019088   -8.58364959  139.71132221]\n",
      "Episode =  919, total_reward = 252.000 (best = 252.000)[ -32.71253312   19.23310933  137.60735907]\n",
      "Episode =  920, total_reward = 252.000 (best = 252.000)[  22.89693341   -3.00777266  136.77158251]\n",
      "Episode =  921, total_reward = 252.000 (best = 252.000)[ -58.93554681    9.30266782  118.84539168]\n",
      "Episode =  922, total_reward = 252.000 (best = 252.000)[ -15.15741796  -70.5357046   109.41082113]\n",
      "Episode =  923, total_reward = 252.000 (best = 252.000)[ -30.4913853   -37.34705988  126.1390756 ]\n",
      "Episode =  924, total_reward = 252.000 (best = 252.000)[ -21.22682708    7.85162896  136.30256132]\n",
      "Episode =  925, total_reward = 252.000 (best = 252.000)[  11.82014662    6.2608425   142.90066066]\n",
      "Episode =  926, total_reward = 229.000 (best = 252.000)[  21.49654342  143.83324828  300.        ]\n",
      "Episode =  927, total_reward = 252.000 (best = 252.000)[ -25.50403881   -5.88528625  135.03347236]\n",
      "Episode =  928, total_reward = 252.000 (best = 252.000)[  -5.15094297   13.78695052  139.72302677]\n",
      "Episode =  929, total_reward = 252.000 (best = 252.000)[  -8.8756792    -3.08728118  138.89890723]\n",
      "Episode =  930, total_reward = 252.000 (best = 252.000)[-69.84395814 -39.78445863  99.88641727]\n",
      "Episode =  931, total_reward = 252.000 (best = 252.000)[   7.11509532   -1.32246165  138.74059321]\n",
      "Episode =  932, total_reward = 252.000 (best = 252.000)[  -8.9026914    18.40381425  145.03868686]\n",
      "Episode =  933, total_reward = 252.000 (best = 252.000)[   0.14434798  -36.25955114  127.85597855]\n",
      "Episode =  934, total_reward = 252.000 (best = 252.000)[  14.63557101   -5.6790819   146.08841087]\n",
      "Episode =  935, total_reward = 252.000 (best = 252.000)[  27.54074824    1.16293535  138.91147632]\n",
      "Episode =  936, total_reward = 252.000 (best = 252.000)[ -37.41048655  -13.1694775   132.39603216]\n",
      "Episode =  937, total_reward = 252.000 (best = 252.000)[  -4.74543116  -34.37996987  131.55969514]\n",
      "Episode =  938, total_reward = 252.000 (best = 252.000)[  19.35423223    8.55487077  147.29551536]\n",
      "Episode =  939, total_reward = 252.000 (best = 252.000)[ -28.32033455   25.61273776  161.37803318]\n",
      "Episode =  940, total_reward = 252.000 (best = 252.000)[ -45.99039122    6.55280644  126.45935276]\n",
      "Episode =  941, total_reward = 252.000 (best = 252.000)[   5.29073428   37.38150237  182.99508598]\n",
      "Episode =  942, total_reward = 241.000 (best = 252.000)[ 150.  150.  300.]\n",
      "Episode =  943, total_reward = 226.000 (best = 252.000)[ 150.  150.  300.]\n",
      "Episode =  944, total_reward = 252.000 (best = 252.000)[   9.58000448   -2.01617306  137.95108033]\n",
      "Episode =  945, total_reward = 252.000 (best = 252.000)[  -1.94696755   -4.95338845  138.32364453]\n",
      "Episode =  946, total_reward = 252.000 (best = 252.000)[  11.98755501  -41.24668969  133.73125446]\n",
      "Episode =  947, total_reward = 252.000 (best = 252.000)[  -7.3404229    21.79010438  141.50998762]\n",
      "Episode =  948, total_reward = 252.000 (best = 252.000)[ -21.68471555   -9.78752281  135.47552828]\n",
      "Episode =  949, total_reward = 252.000 (best = 252.000)[ -59.72805046   10.42857515  139.9863307 ]\n",
      "Episode =  950, total_reward = 238.000 (best = 252.000)[  87.74921454 -150.          300.        ]\n",
      "Episode =  951, total_reward = 252.000 (best = 252.000)[  16.51863216  -39.6992055   126.88341071]\n",
      "Episode =  952, total_reward = 252.000 (best = 252.000)[ -10.74225324   -2.00206509  138.4846543 ]\n",
      "Episode =  953, total_reward = 252.000 (best = 252.000)[  16.85875591  -33.16760503  133.71681728]\n",
      "Episode =  954, total_reward = 252.000 (best = 252.000)[ -11.16794896  -12.41848395  137.22575262]\n",
      "Episode =  955, total_reward = 252.000 (best = 252.000)[ -27.94590103  -27.7491678   130.10956089]\n",
      "Episode =  956, total_reward = 252.000 (best = 252.000)[  38.30622512  -28.78860329  131.75684136]\n",
      "Episode =  957, total_reward = 252.000 (best = 252.000)[  -2.88107944   25.96299829  135.56719118]\n",
      "Episode =  958, total_reward = 252.000 (best = 252.000)[ -38.00597643   18.93039165  144.53155546]\n",
      "Episode =  959, total_reward = 252.000 (best = 252.000)[ -31.4613559    25.77186574  136.9899546 ]\n",
      "Episode =  960, total_reward = 252.000 (best = 252.000)[ -38.42948674  -12.32704871  129.62758142]\n",
      "Episode =  961, total_reward = 252.000 (best = 252.000)[  -2.52372486  -31.86266311  133.01889789]\n",
      "Episode =  962, total_reward = 252.000 (best = 252.000)[  13.96317536   18.09989076  136.90902579]\n",
      "Episode =  963, total_reward = 252.000 (best = 252.000)[  20.97332205    4.1156884   146.67432386]\n",
      "Episode =  964, total_reward = 252.000 (best = 252.000)[ -22.41493933  -54.10084835  118.85436502]\n",
      "Episode =  965, total_reward = 252.000 (best = 252.000)[ -19.91935891   11.08344324  139.12829847]\n",
      "Episode =  966, total_reward = 252.000 (best = 252.000)[ -20.41389672   -7.49344857  136.27943461]\n",
      "Episode =  967, total_reward = 252.000 (best = 252.000)[ -44.2766634     2.58571604  128.75041953]\n",
      "Episode =  968, total_reward = 252.000 (best = 252.000)[   8.39233538  -28.55638783  134.63741644]\n",
      "Episode =  969, total_reward = 252.000 (best = 252.000)[  -3.47144159  -18.09989056  139.34102028]\n",
      "Episode =  970, total_reward = 252.000 (best = 252.000)[  23.43919038  -30.21534215  131.01534923]\n",
      "Episode =  971, total_reward = 252.000 (best = 252.000)[  12.45833584   30.48642647  140.77974803]\n",
      "Episode =  972, total_reward = 252.000 (best = 252.000)[   8.75117327   18.05816125  137.3513865 ]\n",
      "Episode =  973, total_reward = 250.000 (best = 252.000)[  40.70772527   40.00291289  300.        ]\n",
      "Episode =  974, total_reward = 252.000 (best = 252.000)[   3.98212807  -31.83135097  132.80277666]\n",
      "Episode =  975, total_reward = 252.000 (best = 252.000)[  11.6777292    -1.3662754   137.54530056]\n",
      "Episode =  976, total_reward = 252.000 (best = 252.000)[ -12.88360732  -23.8298776   135.37867936]\n",
      "Episode =  977, total_reward = 252.000 (best = 252.000)[  12.13595429  -29.70783846  132.93774269]\n",
      "Episode =  978, total_reward = 252.000 (best = 252.000)[  13.36390692   15.45837344  138.80058102]\n",
      "Episode =  979, total_reward = 252.000 (best = 252.000)[  20.30096219  -46.02190859  123.46584662]\n",
      "Episode =  980, total_reward = 205.000 (best = 252.000)[ 150.          -70.19750012  242.80326274]\n",
      "Episode =  981, total_reward = 252.000 (best = 252.000)[ -20.51239223   23.25629131  153.02042255]\n",
      "Episode =  982, total_reward = 250.000 (best = 252.000)[ -59.72944022  150.          300.        ]\n",
      "Episode =  983, total_reward = 252.000 (best = 252.000)[  22.74375204   25.0513533   149.5714925 ]\n",
      "Episode =  984, total_reward = 252.000 (best = 252.000)[  14.76718508   14.32156689  137.65964167]\n"
     ]
    },
    {
     "name": "stdout",
     "output_type": "stream",
     "text": [
      "Episode =  985, total_reward = 252.000 (best = 252.000)[ -41.14702209   14.55814735  137.82716064]\n",
      "Episode =  986, total_reward = 252.000 (best = 252.000)[   9.58347565   18.70191821  154.10148195]\n",
      "Episode =  987, total_reward = 252.000 (best = 252.000)[  -7.26859642   -8.95487157  138.1068714 ]\n",
      "Episode =  988, total_reward = 252.000 (best = 252.000)[  22.20334537    8.00231139  137.50592274]\n",
      "Episode =  989, total_reward = 252.000 (best = 252.000)[   9.44111596  -20.36055851  135.88744746]\n",
      "Episode =  990, total_reward = 252.000 (best = 252.000)[  -4.94992734  -12.06364295  137.72981775]\n",
      "Episode =  991, total_reward = 252.000 (best = 252.000)[ -33.95710631    4.30205961  132.55987051]\n",
      "Episode =  992, total_reward = 252.000 (best = 252.000)[ -36.67997788   -8.01428302  130.21161724]\n",
      "Episode =  993, total_reward = 252.000 (best = 252.000)[ -10.06001516    8.61417675  138.70531362]\n",
      "Episode =  994, total_reward = 252.000 (best = 252.000)[  22.69448472  -31.57428836  162.88995388]\n",
      "Episode =  995, total_reward = 252.000 (best = 252.000)[  12.568824      7.43931352  145.57991324]\n",
      "Episode =  996, total_reward = 252.000 (best = 252.000)[ -67.4216546    -8.22188554  107.3814002 ]\n",
      "Episode =  997, total_reward = 244.000 (best = 252.000)[  52.77233337   67.1210258   300.        ]\n",
      "Episode =  998, total_reward = 252.000 (best = 252.000)[  31.12756474   20.7967312   141.77285792]\n",
      "Episode =  999, total_reward = 252.000 (best = 252.000)[  13.8929894     0.56697311  146.48909941]\n",
      "Episode = 1000, total_reward = 252.000 (best = 252.000)[  -8.2363704    13.66355112  139.18674658]\n"
     ]
    }
   ],
   "source": [
    "%reload_ext autoreload\n",
    "##TAKE OFF TASK\n",
    "import sys \n",
    "import pandas as pd \n",
    "import csv \n",
    "from task import Task \n",
    "from agents.agent import DDPG \n",
    "\n",
    "runtime = 5.\n",
    "##Initial Position\n",
    "init_pose = np.array([0.,0.,0.,0.,0.,0.])\n",
    "init_velocities = np.array([0.,0.,0.])\n",
    "init_angle_velocities = np.array([0.,0.,0.])\n",
    "file_output = 'reward.txt'\n",
    "episodes = 1000 \n",
    "target_post = np.array([0.,0.,10.])\n",
    "done = False \n",
    "\n",
    "#DDPG Agent\n",
    "task = Task(target_pos = target_pos)\n",
    "agent = DDPG(task)\n",
    "labels = ['episode', 'rewards_total']\n",
    "results = {x : [] for x in labels}\n",
    "\n",
    "#Simulation \n",
    "with open(file_output, 'w') as csvfile: \n",
    "    writer = csv.writer(csvfile)\n",
    "    writer.writerow(labels)\n",
    "    best_total_reward = 0\n",
    "    for i in range(1, episodes+1):\n",
    "        state = agent.reset_episode()\n",
    "        total_reward = 0\n",
    "        while True: \n",
    "            action = agent.act(state)\n",
    "            next_state, reward, done = task.step(action)\n",
    "            total_reward += reward \n",
    "            if total_reward > best_total_reward: \n",
    "                best_total_reward = total_reward\n",
    "            agent.step(action, reward, next_state, done)\n",
    "            state = next_state\n",
    "            if done: \n",
    "                to_write = [i] + [total_reward]\n",
    "                for ii in range(len(labels)):\n",
    "                    results[labels[ii]].append(to_write[ii])\n",
    "                writer.writerow(to_write)\n",
    "                print(\"\\rEpisode = {:4d}, total_reward = {:7.3f} (best = {:7.3f})\".format(i, total_reward, best_total_reward), end=\"\")\n",
    "                if (i > 980):\n",
    "                    print(task.sim.pose[:3])\n",
    "                break\n",
    "        sys.stdout.flush()\n",
    "\n",
    "\n",
    "\n",
    "\n"
   ]
  },
  {
   "cell_type": "markdown",
   "metadata": {
    "collapsed": true
   },
   "source": [
    "## Plot the Rewards\n",
    "\n",
    "Once you are satisfied with your performance, plot the episode rewards, either from a single run, or averaged over multiple runs. "
   ]
  },
  {
   "cell_type": "code",
   "execution_count": 29,
   "metadata": {},
   "outputs": [
    {
     "data": {
      "image/png": "[encoded data removed]",
      "text/plain": [
       "<matplotlib.figure.Figure at 0x7f13f88775c0>"
      ]
     },
     "metadata": {},
     "output_type": "display_data"
    }
   ],
   "source": [
    "## TODO: Plot the rewards.\n",
    "import matplotlib.pyplot as plt\n",
    "%matplotlib inline\n",
    "\n",
    "plt.plot(results['episode'], results['rewards_total'])\n",
    "#plt.legend()\n",
    "_ = plt.ylim()"
   ]
  },
  {
   "cell_type": "markdown",
   "metadata": {
    "collapsed": true
   },
   "source": [
    "## Reflections\n",
    "\n",
    "**Question 1**: Describe the task that you specified in `task.py`.  How did you design the reward function?\n",
    "\n",
    "**Answer**:\n",
    "\n",
    "My task is for take off this is my reward function: \n",
    "\n",
    "xy_difference = abs(self.sim.pose[:2] - self.target_pos[:2]).sum()\n",
    "        \n",
    "a = 0.5 * min (-xy_difference , 0)\n",
    "          \n",
    "b = 0.3 * (self.sim.pose[2] - self.target_pos[2]).sum()\n",
    "        \n",
    "reward = 1 - a + b + 0.3 * self.sim.v[2] \n",
    "reward = np.clip(reward, -1.0, 1.0)"
   ]
  },
  {
   "cell_type": "markdown",
   "metadata": {},
   "source": [
    "**Question 2**: Discuss your agent briefly, using the following questions as a guide:\n",
    "\n",
    "- What learning algorithm(s) did you try? What worked best for you?\n",
    "- What was your final choice of hyperparameters (such as $\\alpha$, $\\gamma$, $\\epsilon$, etc.)?\n",
    "- What neural network architecture did you use (if any)? Specify layers, sizes, activation functions, etc.\n",
    "\n",
    "**Answer**:\n",
    "\n",
    "I found that using a neural network for the actor and critic worked best for me. Furthermore including self.target_pos[2] and self.sim.pose[2] worked the best at the end. \n",
    "\n",
    "For this continuous action space I have seen other people achieving good outcomes with DDPG as well.  \n",
    "\n",
    "Actor: \n",
    "\n",
    "Dense(hidden unites = 32)\n",
    "relu activation\n",
    "\n",
    "Dense(hidden unites = 64)\n",
    "batch normalization \n",
    "relu activation \n",
    "dropout(0.5)\n",
    "\n",
    "Dense(hidden units = 128) \n",
    "batch normalization \n",
    "relu activation \n",
    "dropout(0.5)\n",
    "\n",
    "Dense(hidden units = 64) \n",
    "batch normalization \n",
    "relu activation \n",
    "dropout(0.5)\n",
    "\n",
    "Dense(sigmoid activation_\n",
    "\n",
    "Critic: \n",
    "State: \n",
    "\n",
    "Dense(hidden units = 32)\n",
    "relu activation \n",
    "dropout\n",
    "\n",
    "What was your final choice of hyperparameters (such as αα , γγ , ϵϵ , etc.)?\n",
    "\n",
    "After tweaking and changing the hyperparameters for awhile, I got these figures for the best hyperparameters:\n",
    "\n",
    "The final choice of the hyperparameters are :\n",
    "\n",
    "Size of minibatch from replay memory = 64\n",
    "Tau (soft target update rate) = 0.01\n",
    "Gamma = 0.99\n",
    "Replay memory buffer size = 100000\n",
    "\n"
   ]
  },
  {
   "cell_type": "markdown",
   "metadata": {},
   "source": [
    "**Question 3**: Using the episode rewards plot, discuss how the agent learned over time.\n",
    "\n",
    "- Was it an easy task to learn or hard?\n",
    "- Was there a gradual learning curve, or an aha moment?\n",
    "- How good was the final performance of the agent? (e.g. mean rewards over the last 10 episodes)\n",
    "\n",
    "**Answer**:\n",
    "\n",
    "It was a hard task that took time to figure out how to adjust the reward function. Looking at the reward plot, it took time to achieve the desired performance, although at the end we can see that we achieve the required takeoff performance. \n",
    "\n",
    "Furthermore, "
   ]
  },
  {
   "cell_type": "markdown",
   "metadata": {},
   "source": [
    "**Question 4**: Briefly summarize your experience working on this project. You can use the following prompts for ideas.\n",
    "\n",
    "- What was the hardest part of the project? (e.g. getting started, plotting, specifying the task, etc.)\n",
    "- Did you find anything interesting in how the quadcopter or your agent behaved?\n",
    "\n",
    "**Answer**:\n",
    "\n",
    "The hardest part was the beginning getting started and understanding what to do, it took alot of time reading the forum. "
   ]
  },
  {
   "cell_type": "code",
   "execution_count": null,
   "metadata": {},
   "outputs": [],
   "source": []
  },
  {
   "cell_type": "code",
   "execution_count": null,
   "metadata": {},
   "outputs": [],
   "source": []
  },
  {
   "cell_type": "code",
   "execution_count": null,
   "metadata": {},
   "outputs": [],
   "source": []
  }
 ],
 "metadata": {
  "anaconda-cloud": {},
  "kernelspec": {
   "display_name": "Python 3",
   "language": "python",
   "name": "python3"
  },
  "language_info": {
   "codemirror_mode": {
    "name": "ipython",
    "version": 3
   },
   "file_extension": ".py",
   "mimetype": "text/x-python",
   "name": "python",
   "nbconvert_exporter": "python",
   "pygments_lexer": "ipython3",
   "version": "3.6.3"
  }
 },
 "nbformat": 4,
 "nbformat_minor": 2
}
